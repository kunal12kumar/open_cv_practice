{
 "cells": [
  {
   "cell_type": "code",
   "execution_count": null,
   "id": "4d1b82f7",
   "metadata": {},
   "outputs": [],
   "source": [
    "# IN this we will study about the color thresholding means we will change the color of the image "
   ]
  }
 ],
 "metadata": {
  "language_info": {
   "name": "python"
  }
 },
 "nbformat": 4,
 "nbformat_minor": 5
}
