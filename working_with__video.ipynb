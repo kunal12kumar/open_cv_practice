{
 "cells": [
  {
   "cell_type": "markdown",
   "id": "d5622ccf",
   "metadata": {},
   "source": [
    "IN this we learn how to read video and makes changes in them ,"
   ]
  },
  {
   "cell_type": "code",
   "execution_count": 2,
   "id": "a37da9c5",
   "metadata": {},
   "outputs": [],
   "source": [
    "import cv2"
   ]
  },
  {
   "cell_type": "code",
   "execution_count": 11,
   "id": "0a265eeb",
   "metadata": {},
   "outputs": [],
   "source": [
    "frames_video=cv2.VideoCapture(\"./bhagirathi.mp4\")"
   ]
  },
  {
   "cell_type": "code",
   "execution_count": 13,
   "id": "2e8b5796",
   "metadata": {},
   "outputs": [],
   "source": [
    "while True:\n",
    "    rel , frame= frames_video.read()\n",
    "    # rel is boolean\n",
    "    if rel is False:\n",
    "        break\n",
    "    cv2.imshow(\"video_frame\",frame)\n",
    "    if cv2.waitKey(9) & 0xFF == ord('t'):\n",
    "        # in this here if we press t then the videoo will stop\n",
    "        break\n",
    "cv2.destroyAllWindows()"
   ]
  },
  {
   "cell_type": "code",
   "execution_count": null,
   "id": "3bd6003c",
   "metadata": {},
   "outputs": [],
   "source": []
  }
 ],
 "metadata": {
  "kernelspec": {
   "display_name": "open_cv_files",
   "language": "python",
   "name": "python3"
  },
  "language_info": {
   "codemirror_mode": {
    "name": "ipython",
    "version": 3
   },
   "file_extension": ".py",
   "mimetype": "text/x-python",
   "name": "python",
   "nbconvert_exporter": "python",
   "pygments_lexer": "ipython3",
   "version": "3.10.0"
  }
 },
 "nbformat": 4,
 "nbformat_minor": 5
}
