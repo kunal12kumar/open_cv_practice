{
 "cells": [
  {
   "cell_type": "markdown",
   "id": "d5622ccf",
   "metadata": {},
   "source": [
    "IN this we learn how to read video and makes changes in them ,"
   ]
  },
  {
   "cell_type": "code",
   "execution_count": null,
   "id": "a37da9c5",
   "metadata": {},
   "outputs": [],
   "source": [
    "import cv2"
   ]
  },
  {
   "cell_type": "code",
   "execution_count": null,
   "id": "0a265eeb",
   "metadata": {},
   "outputs": [],
   "source": [
    "frames_video=cv2.VideoCapture()"
   ]
  }
 ],
 "metadata": {
  "kernelspec": {
   "display_name": "open_cv_files",
   "language": "python",
   "name": "python3"
  },
  "language_info": {
   "name": "python",
   "version": "3.10.0"
  }
 },
 "nbformat": 4,
 "nbformat_minor": 5
}
